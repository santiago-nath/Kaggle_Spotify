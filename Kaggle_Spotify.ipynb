{
  "nbformat": 4,
  "nbformat_minor": 0,
  "metadata": {
    "colab": {
      "name": "Kaggle_Spotify.ipynb",
      "provenance": [],
      "collapsed_sections": []
    },
    "kernelspec": {
      "name": "python3",
      "display_name": "Python 3"
    },
    "language_info": {
      "name": "python"
    }
  },
  "cells": [
    {
      "cell_type": "code",
      "execution_count": 36,
      "metadata": {
        "id": "N231gEn54kOX"
      },
      "outputs": [],
      "source": [
        "# Desafio proposto pelo grupo Mulheres em Dados\n",
        "# Top 50 Spotify Songs - 2019\n",
        "# LINK: https://www.kaggle.com/leonardopena/top50spotify2019\n",
        "# Análise de Dados | Machine Learning\n",
        "# Elaborado por NATHALIA SANTIAGO"
      ]
    },
    {
      "cell_type": "code",
      "source": [
        "#Importando Bibliotecas\n",
        "import numpy as np\n",
        "import pandas as pd\n",
        "import matplotlib.pyplot as plt\n",
        "import seaborn as sns"
      ],
      "metadata": {
        "id": "OY73oUyb5Bxf"
      },
      "execution_count": 37,
      "outputs": []
    },
    {
      "cell_type": "code",
      "source": [
        "#Importando os data frames train e test\n",
        "df = pd.read_csv('/content/top50.csv', sep=\",\",encoding='ISO-8859-1')"
      ],
      "metadata": {
        "id": "IUwejnQA5B0u"
      },
      "execution_count": 38,
      "outputs": []
    },
    {
      "cell_type": "code",
      "source": [
        "# Ver nomes das colunas\n",
        "df.columns"
      ],
      "metadata": {
        "id": "VCeDBnW45B3f",
        "colab": {
          "base_uri": "https://localhost:8080/"
        },
        "outputId": "2a869644-ac36-492b-ddca-57a24591a8b0"
      },
      "execution_count": 39,
      "outputs": [
        {
          "output_type": "execute_result",
          "data": {
            "text/plain": [
              "Index(['Unnamed: 0', 'Track.Name', 'Artist.Name', 'Genre', 'Beats.Per.Minute',\n",
              "       'Energy', 'Danceability', 'Loudness..dB..', 'Liveness', 'Valence.',\n",
              "       'Length.', 'Acousticness..', 'Speechiness.', 'Popularity'],\n",
              "      dtype='object')"
            ]
          },
          "metadata": {},
          "execution_count": 39
        }
      ]
    },
    {
      "cell_type": "code",
      "source": [
        "# Ver as primeiras linhas da tabela\n",
        "df.head()"
      ],
      "metadata": {
        "id": "anL8rHoe5B6O",
        "colab": {
          "base_uri": "https://localhost:8080/",
          "height": 461
        },
        "outputId": "f13d2565-4849-4ca9-85b4-974ede5bec04"
      },
      "execution_count": 40,
      "outputs": [
        {
          "output_type": "execute_result",
          "data": {
            "text/html": [
              "\n",
              "  <div id=\"df-5340c1df-ae42-4bef-8902-6d1f0a5b4bc4\">\n",
              "    <div class=\"colab-df-container\">\n",
              "      <div>\n",
              "<style scoped>\n",
              "    .dataframe tbody tr th:only-of-type {\n",
              "        vertical-align: middle;\n",
              "    }\n",
              "\n",
              "    .dataframe tbody tr th {\n",
              "        vertical-align: top;\n",
              "    }\n",
              "\n",
              "    .dataframe thead th {\n",
              "        text-align: right;\n",
              "    }\n",
              "</style>\n",
              "<table border=\"1\" class=\"dataframe\">\n",
              "  <thead>\n",
              "    <tr style=\"text-align: right;\">\n",
              "      <th></th>\n",
              "      <th>Unnamed: 0</th>\n",
              "      <th>Track.Name</th>\n",
              "      <th>Artist.Name</th>\n",
              "      <th>Genre</th>\n",
              "      <th>Beats.Per.Minute</th>\n",
              "      <th>Energy</th>\n",
              "      <th>Danceability</th>\n",
              "      <th>Loudness..dB..</th>\n",
              "      <th>Liveness</th>\n",
              "      <th>Valence.</th>\n",
              "      <th>Length.</th>\n",
              "      <th>Acousticness..</th>\n",
              "      <th>Speechiness.</th>\n",
              "      <th>Popularity</th>\n",
              "    </tr>\n",
              "  </thead>\n",
              "  <tbody>\n",
              "    <tr>\n",
              "      <th>0</th>\n",
              "      <td>1</td>\n",
              "      <td>Señorita</td>\n",
              "      <td>Shawn Mendes</td>\n",
              "      <td>canadian pop</td>\n",
              "      <td>117</td>\n",
              "      <td>55</td>\n",
              "      <td>76</td>\n",
              "      <td>-6</td>\n",
              "      <td>8</td>\n",
              "      <td>75</td>\n",
              "      <td>191</td>\n",
              "      <td>4</td>\n",
              "      <td>3</td>\n",
              "      <td>79</td>\n",
              "    </tr>\n",
              "    <tr>\n",
              "      <th>1</th>\n",
              "      <td>2</td>\n",
              "      <td>China</td>\n",
              "      <td>Anuel AA</td>\n",
              "      <td>reggaeton flow</td>\n",
              "      <td>105</td>\n",
              "      <td>81</td>\n",
              "      <td>79</td>\n",
              "      <td>-4</td>\n",
              "      <td>8</td>\n",
              "      <td>61</td>\n",
              "      <td>302</td>\n",
              "      <td>8</td>\n",
              "      <td>9</td>\n",
              "      <td>92</td>\n",
              "    </tr>\n",
              "    <tr>\n",
              "      <th>2</th>\n",
              "      <td>3</td>\n",
              "      <td>boyfriend (with Social House)</td>\n",
              "      <td>Ariana Grande</td>\n",
              "      <td>dance pop</td>\n",
              "      <td>190</td>\n",
              "      <td>80</td>\n",
              "      <td>40</td>\n",
              "      <td>-4</td>\n",
              "      <td>16</td>\n",
              "      <td>70</td>\n",
              "      <td>186</td>\n",
              "      <td>12</td>\n",
              "      <td>46</td>\n",
              "      <td>85</td>\n",
              "    </tr>\n",
              "    <tr>\n",
              "      <th>3</th>\n",
              "      <td>4</td>\n",
              "      <td>Beautiful People (feat. Khalid)</td>\n",
              "      <td>Ed Sheeran</td>\n",
              "      <td>pop</td>\n",
              "      <td>93</td>\n",
              "      <td>65</td>\n",
              "      <td>64</td>\n",
              "      <td>-8</td>\n",
              "      <td>8</td>\n",
              "      <td>55</td>\n",
              "      <td>198</td>\n",
              "      <td>12</td>\n",
              "      <td>19</td>\n",
              "      <td>86</td>\n",
              "    </tr>\n",
              "    <tr>\n",
              "      <th>4</th>\n",
              "      <td>5</td>\n",
              "      <td>Goodbyes (Feat. Young Thug)</td>\n",
              "      <td>Post Malone</td>\n",
              "      <td>dfw rap</td>\n",
              "      <td>150</td>\n",
              "      <td>65</td>\n",
              "      <td>58</td>\n",
              "      <td>-4</td>\n",
              "      <td>11</td>\n",
              "      <td>18</td>\n",
              "      <td>175</td>\n",
              "      <td>45</td>\n",
              "      <td>7</td>\n",
              "      <td>94</td>\n",
              "    </tr>\n",
              "  </tbody>\n",
              "</table>\n",
              "</div>\n",
              "      <button class=\"colab-df-convert\" onclick=\"convertToInteractive('df-5340c1df-ae42-4bef-8902-6d1f0a5b4bc4')\"\n",
              "              title=\"Convert this dataframe to an interactive table.\"\n",
              "              style=\"display:none;\">\n",
              "        \n",
              "  <svg xmlns=\"http://www.w3.org/2000/svg\" height=\"24px\"viewBox=\"0 0 24 24\"\n",
              "       width=\"24px\">\n",
              "    <path d=\"M0 0h24v24H0V0z\" fill=\"none\"/>\n",
              "    <path d=\"M18.56 5.44l.94 2.06.94-2.06 2.06-.94-2.06-.94-.94-2.06-.94 2.06-2.06.94zm-11 1L8.5 8.5l.94-2.06 2.06-.94-2.06-.94L8.5 2.5l-.94 2.06-2.06.94zm10 10l.94 2.06.94-2.06 2.06-.94-2.06-.94-.94-2.06-.94 2.06-2.06.94z\"/><path d=\"M17.41 7.96l-1.37-1.37c-.4-.4-.92-.59-1.43-.59-.52 0-1.04.2-1.43.59L10.3 9.45l-7.72 7.72c-.78.78-.78 2.05 0 2.83L4 21.41c.39.39.9.59 1.41.59.51 0 1.02-.2 1.41-.59l7.78-7.78 2.81-2.81c.8-.78.8-2.07 0-2.86zM5.41 20L4 18.59l7.72-7.72 1.47 1.35L5.41 20z\"/>\n",
              "  </svg>\n",
              "      </button>\n",
              "      \n",
              "  <style>\n",
              "    .colab-df-container {\n",
              "      display:flex;\n",
              "      flex-wrap:wrap;\n",
              "      gap: 12px;\n",
              "    }\n",
              "\n",
              "    .colab-df-convert {\n",
              "      background-color: #E8F0FE;\n",
              "      border: none;\n",
              "      border-radius: 50%;\n",
              "      cursor: pointer;\n",
              "      display: none;\n",
              "      fill: #1967D2;\n",
              "      height: 32px;\n",
              "      padding: 0 0 0 0;\n",
              "      width: 32px;\n",
              "    }\n",
              "\n",
              "    .colab-df-convert:hover {\n",
              "      background-color: #E2EBFA;\n",
              "      box-shadow: 0px 1px 2px rgba(60, 64, 67, 0.3), 0px 1px 3px 1px rgba(60, 64, 67, 0.15);\n",
              "      fill: #174EA6;\n",
              "    }\n",
              "\n",
              "    [theme=dark] .colab-df-convert {\n",
              "      background-color: #3B4455;\n",
              "      fill: #D2E3FC;\n",
              "    }\n",
              "\n",
              "    [theme=dark] .colab-df-convert:hover {\n",
              "      background-color: #434B5C;\n",
              "      box-shadow: 0px 1px 3px 1px rgba(0, 0, 0, 0.15);\n",
              "      filter: drop-shadow(0px 1px 2px rgba(0, 0, 0, 0.3));\n",
              "      fill: #FFFFFF;\n",
              "    }\n",
              "  </style>\n",
              "\n",
              "      <script>\n",
              "        const buttonEl =\n",
              "          document.querySelector('#df-5340c1df-ae42-4bef-8902-6d1f0a5b4bc4 button.colab-df-convert');\n",
              "        buttonEl.style.display =\n",
              "          google.colab.kernel.accessAllowed ? 'block' : 'none';\n",
              "\n",
              "        async function convertToInteractive(key) {\n",
              "          const element = document.querySelector('#df-5340c1df-ae42-4bef-8902-6d1f0a5b4bc4');\n",
              "          const dataTable =\n",
              "            await google.colab.kernel.invokeFunction('convertToInteractive',\n",
              "                                                     [key], {});\n",
              "          if (!dataTable) return;\n",
              "\n",
              "          const docLinkHtml = 'Like what you see? Visit the ' +\n",
              "            '<a target=\"_blank\" href=https://colab.research.google.com/notebooks/data_table.ipynb>data table notebook</a>'\n",
              "            + ' to learn more about interactive tables.';\n",
              "          element.innerHTML = '';\n",
              "          dataTable['output_type'] = 'display_data';\n",
              "          await google.colab.output.renderOutput(dataTable, element);\n",
              "          const docLink = document.createElement('div');\n",
              "          docLink.innerHTML = docLinkHtml;\n",
              "          element.appendChild(docLink);\n",
              "        }\n",
              "      </script>\n",
              "    </div>\n",
              "  </div>\n",
              "  "
            ],
            "text/plain": [
              "   Unnamed: 0                       Track.Name  ... Speechiness. Popularity\n",
              "0           1                         Señorita  ...            3         79\n",
              "1           2                            China  ...            9         92\n",
              "2           3    boyfriend (with Social House)  ...           46         85\n",
              "3           4  Beautiful People (feat. Khalid)  ...           19         86\n",
              "4           5      Goodbyes (Feat. Young Thug)  ...            7         94\n",
              "\n",
              "[5 rows x 14 columns]"
            ]
          },
          "metadata": {},
          "execution_count": 40
        }
      ]
    },
    {
      "cell_type": "code",
      "source": [
        "# Informação sobre os dados de cada coluna\n",
        "df.info()"
      ],
      "metadata": {
        "colab": {
          "base_uri": "https://localhost:8080/"
        },
        "id": "3aBzeuDnCc0Q",
        "outputId": "56b31f23-02c3-481f-8775-668073a52439"
      },
      "execution_count": 41,
      "outputs": [
        {
          "output_type": "stream",
          "name": "stdout",
          "text": [
            "<class 'pandas.core.frame.DataFrame'>\n",
            "RangeIndex: 50 entries, 0 to 49\n",
            "Data columns (total 14 columns):\n",
            " #   Column            Non-Null Count  Dtype \n",
            "---  ------            --------------  ----- \n",
            " 0   Unnamed: 0        50 non-null     int64 \n",
            " 1   Track.Name        50 non-null     object\n",
            " 2   Artist.Name       50 non-null     object\n",
            " 3   Genre             50 non-null     object\n",
            " 4   Beats.Per.Minute  50 non-null     int64 \n",
            " 5   Energy            50 non-null     int64 \n",
            " 6   Danceability      50 non-null     int64 \n",
            " 7   Loudness..dB..    50 non-null     int64 \n",
            " 8   Liveness          50 non-null     int64 \n",
            " 9   Valence.          50 non-null     int64 \n",
            " 10  Length.           50 non-null     int64 \n",
            " 11  Acousticness..    50 non-null     int64 \n",
            " 12  Speechiness.      50 non-null     int64 \n",
            " 13  Popularity        50 non-null     int64 \n",
            "dtypes: int64(11), object(3)\n",
            "memory usage: 5.6+ KB\n"
          ]
        }
      ]
    },
    {
      "cell_type": "code",
      "source": [
        "# Retirada da coluna 'Unnamed' pois só possui ids, não será utilizada na análise\n",
        "df.drop('Unnamed: 0',axis=1,inplace=True)"
      ],
      "metadata": {
        "id": "jUPwJECZBy_5"
      },
      "execution_count": 42,
      "outputs": []
    },
    {
      "cell_type": "code",
      "source": [
        "# Verificar se há valores nulos - não tem\n",
        "df.isnull().sum()"
      ],
      "metadata": {
        "colab": {
          "base_uri": "https://localhost:8080/"
        },
        "id": "mN2FQfF3C2uj",
        "outputId": "7b3144bd-be0a-4b51-8f6e-ec053452846c"
      },
      "execution_count": 43,
      "outputs": [
        {
          "output_type": "execute_result",
          "data": {
            "text/plain": [
              "Track.Name          0\n",
              "Artist.Name         0\n",
              "Genre               0\n",
              "Beats.Per.Minute    0\n",
              "Energy              0\n",
              "Danceability        0\n",
              "Loudness..dB..      0\n",
              "Liveness            0\n",
              "Valence.            0\n",
              "Length.             0\n",
              "Acousticness..      0\n",
              "Speechiness.        0\n",
              "Popularity          0\n",
              "dtype: int64"
            ]
          },
          "metadata": {},
          "execution_count": 43
        }
      ]
    },
    {
      "cell_type": "code",
      "source": [
        "popular_songs = df.groupby('Genre')['Popularity'].count()\n",
        "print(popular_songs)\n",
        "# Agrupando vejo que as músicas mais populares são do gênero 'dance pop', seguido do 'pop' e 'latin'"
      ],
      "metadata": {
        "colab": {
          "base_uri": "https://localhost:8080/"
        },
        "id": "rP9rqnI07er6",
        "outputId": "38adb2d1-7583-46d7-9a52-dfe9b02b4dc4"
      },
      "execution_count": 44,
      "outputs": [
        {
          "output_type": "stream",
          "name": "stdout",
          "text": [
            "Genre\n",
            "atl hip hop         1\n",
            "australian pop      1\n",
            "big room            1\n",
            "boy band            1\n",
            "brostep             2\n",
            "canadian hip hop    3\n",
            "canadian pop        2\n",
            "country rap         2\n",
            "dance pop           8\n",
            "dfw rap             2\n",
            "edm                 3\n",
            "electropop          2\n",
            "escape room         1\n",
            "latin               5\n",
            "panamanian pop      2\n",
            "pop                 7\n",
            "pop house           1\n",
            "r&b en espanol      1\n",
            "reggaeton           2\n",
            "reggaeton flow      2\n",
            "trap music          1\n",
            "Name: Popularity, dtype: int64\n"
          ]
        }
      ]
    },
    {
      "cell_type": "code",
      "source": [
        "popular_artist = df.groupby('Artist.Name')['Track.Name'].count()\n",
        "print(popular_artist)\n",
        "# Dessa forma, vemos que alguns artistas possuem mais de uma música nas mais tocadas:Ed Sheeran(4) e\n",
        "# Diversos empatados em segundos lugar com duas músicas, por exemplo Ariana Grande, Billie Eilish, Lil Nas X"
      ],
      "metadata": {
        "id": "46z9QS4u5CAO",
        "colab": {
          "base_uri": "https://localhost:8080/"
        },
        "outputId": "af15b06c-b279-419b-f408-cadc74cb9d93"
      },
      "execution_count": 45,
      "outputs": [
        {
          "output_type": "stream",
          "name": "stdout",
          "text": [
            "Artist.Name\n",
            "Ali Gatie           1\n",
            "Anuel AA            1\n",
            "Ariana Grande       2\n",
            "Bad Bunny           1\n",
            "Billie Eilish       2\n",
            "Chris Brown         1\n",
            "DJ Snake            1\n",
            "Daddy Yankee        1\n",
            "Drake               1\n",
            "Ed Sheeran          4\n",
            "J Balvin            2\n",
            "Jhay Cortez         1\n",
            "Jonas Brothers      1\n",
            "Katy Perry          1\n",
            "Khalid              1\n",
            "Kygo                1\n",
            "Lady Gaga           1\n",
            "Lauv                1\n",
            "Lewis Capaldi       1\n",
            "Lil Nas X           2\n",
            "Lil Tecca           1\n",
            "Lizzo               1\n",
            "Lunay               1\n",
            "MEDUZA              1\n",
            "Maluma              1\n",
            "Marshmello          2\n",
            "Martin Garrix       1\n",
            "Nicky Jam           1\n",
            "Post Malone         2\n",
            "ROSALÍA             1\n",
            "Sam Smith           1\n",
            "Sech                2\n",
            "Shawn Mendes        2\n",
            "Taylor Swift        1\n",
            "The Chainsmokers    2\n",
            "Tones and I         1\n",
            "Y2K                 1\n",
            "Young Thug          1\n",
            "Name: Track.Name, dtype: int64\n"
          ]
        }
      ]
    },
    {
      "cell_type": "code",
      "source": [
        "# Ilustrando a informação acima\n",
        "plt.figure(figsize=(15,12))\n",
        "ax = sns.countplot(y=\"Artist.Name\",data=df,color='blue',\n",
        "                   order = df['Artist.Name'].value_counts().index[:50])\n",
        "ax.grid(False)\n",
        "plt.title(\"Artistas mais tocados\")\n",
        "plt.xlabel('Quantidade de Músicas')\n",
        "plt.ylabel('Artistas')\n",
        "plt.show()"
      ],
      "metadata": {
        "colab": {
          "base_uri": "https://localhost:8080/",
          "height": 730
        },
        "id": "GeAhXO5796x5",
        "outputId": "953c3672-4798-49a0-9f1a-51854876cffe"
      },
      "execution_count": 46,
      "outputs": [
        {
          "output_type": "display_data",
          "data": {
            "image/png": "[encoded data removed]",
            "text/plain": [
              "<Figure size 1080x864 with 1 Axes>"
            ]
          },
          "metadata": {
            "needs_background": "light"
          }
        }
      ]
    },
    {
      "cell_type": "code",
      "source": [
        "#Gráfico de barras com a quantidade de gênero x faixa de música\n",
        "xtick = ['dance pop', 'pop', 'latin', 'edm', 'canadian hip hop',\n",
        "'panamanian pop', 'electropop', 'reggaeton flow', 'canadian pop',\n",
        "'reggaeton', 'dfw rap', 'brostep', 'country rap', 'escape room',\n",
        "'trap music', 'big room', 'boy band', 'pop house', 'australian pop',\n",
        "'r&b en espanol', 'atl hip hop']\n",
        "length = np.arange(len(xtick))\n",
        "genre_groupby = df.groupby('Genre')['Track.Name'].agg(len)\n",
        "plt.figure(figsize=(15,7))\n",
        "plt.bar(length, genre_groupby)\n",
        "plt.xticks(length, xtick)\n",
        "plt.xticks(rotation=90)\n",
        "plt.title(\"Quantidade de Faixas x Gênero Musical\", fontsize=15)\n",
        "plt.ylabel('Gênero', fontsize=20)\n",
        "plt.ylabel('Qtde de Faixas', fontsize=14)"
      ],
      "metadata": {
        "id": "2rr9H6ga5CHO",
        "colab": {
          "base_uri": "https://localhost:8080/",
          "height": 540
        },
        "outputId": "2c3572eb-5858-4798-a48e-cb5ba060fa09"
      },
      "execution_count": 47,
      "outputs": [
        {
          "output_type": "execute_result",
          "data": {
            "text/plain": [
              "Text(0, 0.5, 'Qtde de Faixas')"
            ]
          },
          "metadata": {},
          "execution_count": 47
        },
        {
          "output_type": "display_data",
          "data": {
            "image/png": "[encoded data removed]",
            "text/plain": [
              "<Figure size 1080x504 with 1 Axes>"
            ]
          },
          "metadata": {
            "needs_background": "light"
          }
        }
      ]
    },
    {
      "cell_type": "code",
      "source": [
        "danceability = df['Danceability'].values.tolist()\n",
        "print(danceability)"
      ],
      "metadata": {
        "colab": {
          "base_uri": "https://localhost:8080/"
        },
        "id": "tUCMEDJfO_zQ",
        "outputId": "52f537f4-14ea-434c-82b5-37589183dd46"
      },
      "execution_count": 48,
      "outputs": [
        {
          "output_type": "stream",
          "name": "stdout",
          "text": [
            "[76, 79, 40, 64, 58, 80, 75, 48, 88, 70, 61, 82, 50, 73, 83, 70, 75, 76, 84, 72, 68, 70, 81, 80, 67, 69, 82, 73, 74, 64, 29, 78, 78, 80, 77, 66, 75, 72, 84, 81, 69, 77, 57, 90, 88, 66, 67, 69, 59, 75]\n"
          ]
        }
      ]
    },
    {
      "cell_type": "code",
      "source": [
        "energy = df['Energy'].values.tolist()\n",
        "print(energy)"
      ],
      "metadata": {
        "colab": {
          "base_uri": "https://localhost:8080/"
        },
        "id": "IkcRlsQPP4XP",
        "outputId": "554a7189-7a50-4764-bf30-92da1f9caf2c"
      },
      "execution_count": 49,
      "outputs": [
        {
          "output_type": "stream",
          "name": "stdout",
          "text": [
            "[55, 81, 80, 65, 65, 68, 64, 68, 62, 43, 62, 71, 41, 79, 50, 45, 65, 48, 39, 62, 74, 59, 79, 78, 45, 82, 59, 46, 86, 79, 51, 32, 71, 59, 88, 72, 70, 82, 73, 56, 68, 68, 39, 40, 69, 62, 75, 79, 70, 79]\n"
          ]
        }
      ]
    },
    {
      "cell_type": "code",
      "source": [
        "length = df['Length.'].values.tolist()\n",
        "print(length)"
      ],
      "metadata": {
        "colab": {
          "base_uri": "https://localhost:8080/"
        },
        "id": "FeNrhdyXQLRm",
        "outputId": "217f75db-c87d-47c2-f726-7fae19dc3ffa"
      },
      "execution_count": 50,
      "outputs": [
        {
          "output_type": "stream",
          "name": "stdout",
          "text": [
            "[191, 302, 186, 198, 175, 220, 131, 202, 157, 194, 251, 185, 182, 288, 205, 261, 243, 158, 161, 173, 153, 115, 309, 266, 195, 191, 210, 213, 193, 222, 210, 179, 176, 200, 224, 164, 226, 162, 181, 199, 228, 171, 216, 198, 162, 182, 202, 214, 218, 206]\n"
          ]
        }
      ]
    },
    {
      "cell_type": "code",
      "source": [
        "genres = df['Genre'].values.tolist()\n",
        "print(genres)"
      ],
      "metadata": {
        "colab": {
          "base_uri": "https://localhost:8080/"
        },
        "id": "PcU1AGYdUPIt",
        "outputId": "556e0457-ef8f-4c80-c831-e86c44094c40"
      },
      "execution_count": 51,
      "outputs": [
        {
          "output_type": "stream",
          "name": "stdout",
          "text": [
            "['canadian pop', 'reggaeton flow', 'dance pop', 'pop', 'dfw rap', 'pop', 'trap music', 'pop', 'country rap', 'electropop', 'reggaeton', 'dance pop', 'pop', 'panamanian pop', 'canadian hip hop', 'dance pop', 'latin', 'dfw rap', 'canadian hip hop', 'escape room', 'pop house', 'country rap', 'reggaeton flow', 'latin', 'electropop', 'canadian pop', 'australian pop', 'canadian hip hop', 'latin', 'latin', 'edm', 'dance pop', 'reggaeton', 'atl hip hop', 'dance pop', 'big room', 'panamanian pop', 'pop', 'boy band', 'dance pop', 'edm', 'dance pop', 'dance pop', 'pop', 'r&b en espanol', 'brostep', 'latin', 'brostep', 'edm', 'pop']\n"
          ]
        }
      ]
    },
    {
      "cell_type": "code",
      "source": [
        "#Relação entre energia e duração da música\n",
        "fig = plt.subplots(figsize=(10,10))\n",
        "sns.regplot(x='Energy', y='Length.', data=df, color='darkblue')"
      ],
      "metadata": {
        "colab": {
          "base_uri": "https://localhost:8080/",
          "height": 623
        },
        "id": "TLpuR1ZWS3bC",
        "outputId": "63d0de42-b1d6-4dab-ce6c-7fbb3a94de9f"
      },
      "execution_count": 52,
      "outputs": [
        {
          "output_type": "execute_result",
          "data": {
            "text/plain": [
              "<matplotlib.axes._subplots.AxesSubplot at 0x7ff64e2de990>"
            ]
          },
          "metadata": {},
          "execution_count": 52
        },
        {
          "output_type": "display_data",
          "data": {
            "image/png": "[encoded data removed]",
            "text/plain": [
              "<Figure size 720x720 with 1 Axes>"
            ]
          },
          "metadata": {
            "needs_background": "light"
          }
        }
      ]
    },
    {
      "cell_type": "code",
      "source": [
        "df.corr()"
      ],
      "metadata": {
        "id": "sRUacNXoS3kz",
        "colab": {
          "base_uri": "https://localhost:8080/",
          "height": 363
        },
        "outputId": "4cff2e71-0305-43b6-c3c6-0778834af782"
      },
      "execution_count": 53,
      "outputs": [
        {
          "output_type": "execute_result",
          "data": {
            "text/html": [
              "\n",
              "  <div id=\"df-7fda93d5-3575-481b-8a42-a83b61aef8cd\">\n",
              "    <div class=\"colab-df-container\">\n",
              "      <div>\n",
              "<style scoped>\n",
              "    .dataframe tbody tr th:only-of-type {\n",
              "        vertical-align: middle;\n",
              "    }\n",
              "\n",
              "    .dataframe tbody tr th {\n",
              "        vertical-align: top;\n",
              "    }\n",
              "\n",
              "    .dataframe thead th {\n",
              "        text-align: right;\n",
              "    }\n",
              "</style>\n",
              "<table border=\"1\" class=\"dataframe\">\n",
              "  <thead>\n",
              "    <tr style=\"text-align: right;\">\n",
              "      <th></th>\n",
              "      <th>Beats.Per.Minute</th>\n",
              "      <th>Energy</th>\n",
              "      <th>Danceability</th>\n",
              "      <th>Loudness..dB..</th>\n",
              "      <th>Liveness</th>\n",
              "      <th>Valence.</th>\n",
              "      <th>Length.</th>\n",
              "      <th>Acousticness..</th>\n",
              "      <th>Speechiness.</th>\n",
              "      <th>Popularity</th>\n",
              "    </tr>\n",
              "  </thead>\n",
              "  <tbody>\n",
              "    <tr>\n",
              "      <th>Beats.Per.Minute</th>\n",
              "      <td>1.000000</td>\n",
              "      <td>0.043756</td>\n",
              "      <td>-0.094183</td>\n",
              "      <td>0.017016</td>\n",
              "      <td>-0.167286</td>\n",
              "      <td>-0.011586</td>\n",
              "      <td>-0.139288</td>\n",
              "      <td>-0.031450</td>\n",
              "      <td>0.557052</td>\n",
              "      <td>0.196097</td>\n",
              "    </tr>\n",
              "    <tr>\n",
              "      <th>Energy</th>\n",
              "      <td>0.043756</td>\n",
              "      <td>1.000000</td>\n",
              "      <td>0.018254</td>\n",
              "      <td>0.670794</td>\n",
              "      <td>0.162768</td>\n",
              "      <td>0.438820</td>\n",
              "      <td>0.224677</td>\n",
              "      <td>-0.339892</td>\n",
              "      <td>-0.089860</td>\n",
              "      <td>-0.080295</td>\n",
              "    </tr>\n",
              "    <tr>\n",
              "      <th>Danceability</th>\n",
              "      <td>-0.094183</td>\n",
              "      <td>0.018254</td>\n",
              "      <td>1.000000</td>\n",
              "      <td>0.016255</td>\n",
              "      <td>-0.149636</td>\n",
              "      <td>0.172829</td>\n",
              "      <td>-0.000185</td>\n",
              "      <td>-0.098165</td>\n",
              "      <td>-0.103472</td>\n",
              "      <td>-0.071413</td>\n",
              "    </tr>\n",
              "    <tr>\n",
              "      <th>Loudness..dB..</th>\n",
              "      <td>0.017016</td>\n",
              "      <td>0.670794</td>\n",
              "      <td>0.016255</td>\n",
              "      <td>1.000000</td>\n",
              "      <td>0.258652</td>\n",
              "      <td>0.237614</td>\n",
              "      <td>0.219219</td>\n",
              "      <td>-0.138300</td>\n",
              "      <td>-0.272213</td>\n",
              "      <td>-0.043085</td>\n",
              "    </tr>\n",
              "    <tr>\n",
              "      <th>Liveness</th>\n",
              "      <td>-0.167286</td>\n",
              "      <td>0.162768</td>\n",
              "      <td>-0.149636</td>\n",
              "      <td>0.258652</td>\n",
              "      <td>1.000000</td>\n",
              "      <td>0.016123</td>\n",
              "      <td>0.131782</td>\n",
              "      <td>0.021328</td>\n",
              "      <td>-0.125286</td>\n",
              "      <td>0.092564</td>\n",
              "    </tr>\n",
              "    <tr>\n",
              "      <th>Valence.</th>\n",
              "      <td>-0.011586</td>\n",
              "      <td>0.438820</td>\n",
              "      <td>0.172829</td>\n",
              "      <td>0.237614</td>\n",
              "      <td>0.016123</td>\n",
              "      <td>1.000000</td>\n",
              "      <td>-0.017782</td>\n",
              "      <td>-0.052323</td>\n",
              "      <td>-0.053242</td>\n",
              "      <td>-0.317752</td>\n",
              "    </tr>\n",
              "    <tr>\n",
              "      <th>Length.</th>\n",
              "      <td>-0.139288</td>\n",
              "      <td>0.224677</td>\n",
              "      <td>-0.000185</td>\n",
              "      <td>0.219219</td>\n",
              "      <td>0.131782</td>\n",
              "      <td>-0.017782</td>\n",
              "      <td>1.000000</td>\n",
              "      <td>-0.076293</td>\n",
              "      <td>0.046755</td>\n",
              "      <td>-0.087639</td>\n",
              "    </tr>\n",
              "    <tr>\n",
              "      <th>Acousticness..</th>\n",
              "      <td>-0.031450</td>\n",
              "      <td>-0.339892</td>\n",
              "      <td>-0.098165</td>\n",
              "      <td>-0.138300</td>\n",
              "      <td>0.021328</td>\n",
              "      <td>-0.052323</td>\n",
              "      <td>-0.076293</td>\n",
              "      <td>1.000000</td>\n",
              "      <td>0.008293</td>\n",
              "      <td>-0.034684</td>\n",
              "    </tr>\n",
              "    <tr>\n",
              "      <th>Speechiness.</th>\n",
              "      <td>0.557052</td>\n",
              "      <td>-0.089860</td>\n",
              "      <td>-0.103472</td>\n",
              "      <td>-0.272213</td>\n",
              "      <td>-0.125286</td>\n",
              "      <td>-0.053242</td>\n",
              "      <td>0.046755</td>\n",
              "      <td>0.008293</td>\n",
              "      <td>1.000000</td>\n",
              "      <td>0.238553</td>\n",
              "    </tr>\n",
              "    <tr>\n",
              "      <th>Popularity</th>\n",
              "      <td>0.196097</td>\n",
              "      <td>-0.080295</td>\n",
              "      <td>-0.071413</td>\n",
              "      <td>-0.043085</td>\n",
              "      <td>0.092564</td>\n",
              "      <td>-0.317752</td>\n",
              "      <td>-0.087639</td>\n",
              "      <td>-0.034684</td>\n",
              "      <td>0.238553</td>\n",
              "      <td>1.000000</td>\n",
              "    </tr>\n",
              "  </tbody>\n",
              "</table>\n",
              "</div>\n",
              "      <button class=\"colab-df-convert\" onclick=\"convertToInteractive('df-7fda93d5-3575-481b-8a42-a83b61aef8cd')\"\n",
              "              title=\"Convert this dataframe to an interactive table.\"\n",
              "              style=\"display:none;\">\n",
              "        \n",
              "  <svg xmlns=\"http://www.w3.org/2000/svg\" height=\"24px\"viewBox=\"0 0 24 24\"\n",
              "       width=\"24px\">\n",
              "    <path d=\"M0 0h24v24H0V0z\" fill=\"none\"/>\n",
              "    <path d=\"M18.56 5.44l.94 2.06.94-2.06 2.06-.94-2.06-.94-.94-2.06-.94 2.06-2.06.94zm-11 1L8.5 8.5l.94-2.06 2.06-.94-2.06-.94L8.5 2.5l-.94 2.06-2.06.94zm10 10l.94 2.06.94-2.06 2.06-.94-2.06-.94-.94-2.06-.94 2.06-2.06.94z\"/><path d=\"M17.41 7.96l-1.37-1.37c-.4-.4-.92-.59-1.43-.59-.52 0-1.04.2-1.43.59L10.3 9.45l-7.72 7.72c-.78.78-.78 2.05 0 2.83L4 21.41c.39.39.9.59 1.41.59.51 0 1.02-.2 1.41-.59l7.78-7.78 2.81-2.81c.8-.78.8-2.07 0-2.86zM5.41 20L4 18.59l7.72-7.72 1.47 1.35L5.41 20z\"/>\n",
              "  </svg>\n",
              "      </button>\n",
              "      \n",
              "  <style>\n",
              "    .colab-df-container {\n",
              "      display:flex;\n",
              "      flex-wrap:wrap;\n",
              "      gap: 12px;\n",
              "    }\n",
              "\n",
              "    .colab-df-convert {\n",
              "      background-color: #E8F0FE;\n",
              "      border: none;\n",
              "      border-radius: 50%;\n",
              "      cursor: pointer;\n",
              "      display: none;\n",
              "      fill: #1967D2;\n",
              "      height: 32px;\n",
              "      padding: 0 0 0 0;\n",
              "      width: 32px;\n",
              "    }\n",
              "\n",
              "    .colab-df-convert:hover {\n",
              "      background-color: #E2EBFA;\n",
              "      box-shadow: 0px 1px 2px rgba(60, 64, 67, 0.3), 0px 1px 3px 1px rgba(60, 64, 67, 0.15);\n",
              "      fill: #174EA6;\n",
              "    }\n",
              "\n",
              "    [theme=dark] .colab-df-convert {\n",
              "      background-color: #3B4455;\n",
              "      fill: #D2E3FC;\n",
              "    }\n",
              "\n",
              "    [theme=dark] .colab-df-convert:hover {\n",
              "      background-color: #434B5C;\n",
              "      box-shadow: 0px 1px 3px 1px rgba(0, 0, 0, 0.15);\n",
              "      filter: drop-shadow(0px 1px 2px rgba(0, 0, 0, 0.3));\n",
              "      fill: #FFFFFF;\n",
              "    }\n",
              "  </style>\n",
              "\n",
              "      <script>\n",
              "        const buttonEl =\n",
              "          document.querySelector('#df-7fda93d5-3575-481b-8a42-a83b61aef8cd button.colab-df-convert');\n",
              "        buttonEl.style.display =\n",
              "          google.colab.kernel.accessAllowed ? 'block' : 'none';\n",
              "\n",
              "        async function convertToInteractive(key) {\n",
              "          const element = document.querySelector('#df-7fda93d5-3575-481b-8a42-a83b61aef8cd');\n",
              "          const dataTable =\n",
              "            await google.colab.kernel.invokeFunction('convertToInteractive',\n",
              "                                                     [key], {});\n",
              "          if (!dataTable) return;\n",
              "\n",
              "          const docLinkHtml = 'Like what you see? Visit the ' +\n",
              "            '<a target=\"_blank\" href=https://colab.research.google.com/notebooks/data_table.ipynb>data table notebook</a>'\n",
              "            + ' to learn more about interactive tables.';\n",
              "          element.innerHTML = '';\n",
              "          dataTable['output_type'] = 'display_data';\n",
              "          await google.colab.output.renderOutput(dataTable, element);\n",
              "          const docLink = document.createElement('div');\n",
              "          docLink.innerHTML = docLinkHtml;\n",
              "          element.appendChild(docLink);\n",
              "        }\n",
              "      </script>\n",
              "    </div>\n",
              "  </div>\n",
              "  "
            ],
            "text/plain": [
              "                  Beats.Per.Minute    Energy  ...  Speechiness.  Popularity\n",
              "Beats.Per.Minute          1.000000  0.043756  ...      0.557052    0.196097\n",
              "Energy                    0.043756  1.000000  ...     -0.089860   -0.080295\n",
              "Danceability             -0.094183  0.018254  ...     -0.103472   -0.071413\n",
              "Loudness..dB..            0.017016  0.670794  ...     -0.272213   -0.043085\n",
              "Liveness                 -0.167286  0.162768  ...     -0.125286    0.092564\n",
              "Valence.                 -0.011586  0.438820  ...     -0.053242   -0.317752\n",
              "Length.                  -0.139288  0.224677  ...      0.046755   -0.087639\n",
              "Acousticness..           -0.031450 -0.339892  ...      0.008293   -0.034684\n",
              "Speechiness.              0.557052 -0.089860  ...      1.000000    0.238553\n",
              "Popularity                0.196097 -0.080295  ...      0.238553    1.000000\n",
              "\n",
              "[10 rows x 10 columns]"
            ]
          },
          "metadata": {},
          "execution_count": 53
        }
      ]
    },
    {
      "cell_type": "code",
      "source": [
        "#ver correlações das possíveis features por heatmap\n",
        "corr = df.corr()\n",
        "ax = plt.subplots(figsize=(11, 8))\n",
        "sns.heatmap(corr,  annot=True, annot_kws={\"size\": 10})"
      ],
      "metadata": {
        "id": "MPb3y1UV5CQQ",
        "colab": {
          "base_uri": "https://localhost:8080/",
          "height": 578
        },
        "outputId": "ffa9ff88-a176-4f80-e206-2d7319a5eca8"
      },
      "execution_count": 54,
      "outputs": [
        {
          "output_type": "execute_result",
          "data": {
            "text/plain": [
              "<matplotlib.axes._subplots.AxesSubplot at 0x7ff64e25ee10>"
            ]
          },
          "metadata": {},
          "execution_count": 54
        },
        {
          "output_type": "display_data",
          "data": {
            "image/png": "[encoded data removed]",
            "text/plain": [
              "<Figure size 792x576 with 2 Axes>"
            ]
          },
          "metadata": {
            "needs_background": "light"
          }
        }
      ]
    },
    {
      "cell_type": "code",
      "source": [
        "# No exercício proposto a intenção é ver qual a variável mais influencia na popularidade de uma música, portanto,\n",
        "# ordenarei o quadro acima do mais correlacionado ao menos correlacionado a coluna 'Popularity'.\n",
        "# abs() function is used to return the absolute value of a number, i.e., it will remove the negative sign of the number. \n",
        "popularity_corr = df.corr()\n",
        "print(\"Ordenação de Correlação\")\n",
        "popularity_corr['Popularity'].sort_values(ascending=False)"
      ],
      "metadata": {
        "id": "XZyzdcnm5CUt",
        "colab": {
          "base_uri": "https://localhost:8080/"
        },
        "outputId": "0eabcdb6-55fe-48e4-f1ca-6593a851e7af"
      },
      "execution_count": 57,
      "outputs": [
        {
          "output_type": "stream",
          "name": "stdout",
          "text": [
            "Ordenação de Correlação\n"
          ]
        },
        {
          "output_type": "execute_result",
          "data": {
            "text/plain": [
              "Popularity          1.000000\n",
              "Speechiness.        0.238553\n",
              "Beats.Per.Minute    0.196097\n",
              "Liveness            0.092564\n",
              "Acousticness..     -0.034684\n",
              "Loudness..dB..     -0.043085\n",
              "Danceability       -0.071413\n",
              "Energy             -0.080295\n",
              "Length.            -0.087639\n",
              "Valence.           -0.317752\n",
              "Name: Popularity, dtype: float64"
            ]
          },
          "metadata": {},
          "execution_count": 57
        }
      ]
    },
    {
      "cell_type": "code",
      "source": [
        "# Podemos observar que as colunas 'Speechness', 'Beats.Per.Minute' e 'Liveness' são as 3 com maior correlação com a 'Popularity' de uma faixa."
      ],
      "metadata": {
        "id": "y8NtKSb45CSm"
      },
      "execution_count": 56,
      "outputs": []
    }
  ]
}